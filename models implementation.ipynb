{
 "cells": [
  {
   "cell_type": "markdown",
   "metadata": {},
   "source": [
    "# Model"
   ]
  },
  {
   "cell_type": "markdown",
   "metadata": {},
   "source": [
    "## Imports"
   ]
  },
  {
   "cell_type": "code",
   "execution_count": 1,
   "metadata": {},
   "outputs": [],
   "source": [
    "import tensorflow as tf\n",
    "import tensorflow.keras\n",
    "\n",
    "import numpy as np\n",
    "\n",
    "import pickle\n",
    "\n",
    "from sklearn import svm\n",
    "\n",
    "import matplotlib.pyplot as plt"
   ]
  },
  {
   "cell_type": "code",
   "execution_count": 2,
   "metadata": {},
   "outputs": [],
   "source": [
    "SEED = 42\n",
    "\n",
    "tf.random.set_seed(SEED)\n",
    "np.random.seed(SEED)"
   ]
  },
  {
   "cell_type": "markdown",
   "metadata": {},
   "source": [
    "## Data loading"
   ]
  },
  {
   "cell_type": "markdown",
   "metadata": {},
   "source": [
    "We load the mffcs data previously preprocessed."
   ]
  },
  {
   "cell_type": "code",
   "execution_count": 3,
   "metadata": {},
   "outputs": [],
   "source": [
    "with open('mfccs.txt', 'rb') as f:\n",
    "    mfccs = pickle.load(f)"
   ]
  },
  {
   "cell_type": "code",
   "execution_count": 4,
   "metadata": {},
   "outputs": [],
   "source": [
    "X = mfccs['X']\n",
    "y = mfccs['y']"
   ]
  },
  {
   "cell_type": "code",
   "execution_count": 5,
   "metadata": {},
   "outputs": [
    {
     "data": {
      "text/plain": [
       "0.5014693171996543"
      ]
     },
     "execution_count": 5,
     "metadata": {},
     "output_type": "execute_result"
    }
   ],
   "source": [
    "np.sum(y) / len(y)"
   ]
  },
  {
   "cell_type": "markdown",
   "metadata": {},
   "source": [
    "We can notice that the data is pretty well balanced and thus permits us to use accuracy as metric"
   ]
  },
  {
   "cell_type": "markdown",
   "metadata": {},
   "source": [
    "## training and test set"
   ]
  },
  {
   "cell_type": "markdown",
   "metadata": {},
   "source": [
    "We split the data in 2 parts, 80% for training and 20% for testing."
   ]
  },
  {
   "cell_type": "code",
   "execution_count": 6,
   "metadata": {},
   "outputs": [],
   "source": [
    "# We start by mixing up the data\n",
    "random_mask = np.arange(X.shape[0])\n",
    "np.random.shuffle(random_mask)\n",
    "X = X[random_mask]\n",
    "y = y[random_mask]"
   ]
  },
  {
   "cell_type": "code",
   "execution_count": 7,
   "metadata": {},
   "outputs": [],
   "source": [
    "sep = 0.8\n",
    "cutoff = int(X.shape[0] * 0.8)\n",
    "X_train = X[:cutoff]\n",
    "y_train = y[:cutoff]\n",
    "\n",
    "X_test = X[cutoff:]\n",
    "y_test = y[cutoff:]"
   ]
  },
  {
   "cell_type": "markdown",
   "metadata": {},
   "source": [
    "## Building the models"
   ]
  },
  {
   "cell_type": "markdown",
   "metadata": {},
   "source": [
    "Helper functions to plot the intermediate results"
   ]
  },
  {
   "cell_type": "code",
   "execution_count": 8,
   "metadata": {},
   "outputs": [],
   "source": [
    "def plot_loss(history):\n",
    "    train_loss = history['loss']\n",
    "    test_loss = history['val_loss']\n",
    "\n",
    "    plt.figure()\n",
    "    plt.xlabel('epochs')\n",
    "    plt.ylabel('loss')\n",
    "    plt.plot(train_loss)\n",
    "    plt.plot(test_loss)\n",
    "    plt.legend(('train','test'))\n",
    "    plt.show()\n",
    "\n",
    "def plot_accuracy(history):\n",
    "    train_acc = history['binary_accuracy']\n",
    "    test_acc = history['val_binary_accuracy']\n",
    "\n",
    "    plt.figure()\n",
    "    plt.xlabel('epochs')\n",
    "    plt.ylabel('accuracy')\n",
    "    plt.plot(train_acc)\n",
    "    plt.plot(test_acc)\n",
    "    plt.legend(('train','test'))\n",
    "    plt.show()"
   ]
  },
  {
   "cell_type": "code",
   "execution_count": 9,
   "metadata": {},
   "outputs": [],
   "source": [
    "class Models:\n",
    "    \"\"\"\n",
    "    This class implements various models to detect genders\n",
    "    \"\"\"\n",
    "    def __init__(self, mode = 'log_reg'):\n",
    "        \"\"\"\n",
    "        mode : possible values are log_reg, svm, mlp or cnn\n",
    "        \"\"\"\n",
    "        self.mode = mode\n",
    "    \n",
    "    def compile_(self, kernel = 'rbf', C = 1.0, activation_function = 'relu', n_hidden_layers = 3, depth_layer = 24, lr = 0.0001):\n",
    "        \"\"\"\n",
    "        builds the model when called according to the given mode.\n",
    "        \n",
    "        lr : the initial learning rate\n",
    "        \n",
    "        SVM:\n",
    "            kernel : possible values are 'rbf' and 'poly' (more on sklearn API). Determines the kernel function.\n",
    "            C : strictly positive value. Regularization parameter.\n",
    "        \n",
    "        MLP:\n",
    "            n_hidden_layer : number of hidden layers in the MLP\n",
    "            \n",
    "        MLP & CNN:\n",
    "            activation_function : the activation functions to use for the hidden layers\n",
    "            depth_layer : number of neurons of the fully connected layers\n",
    "        \n",
    "        \"\"\"\n",
    "        optimizer = tf.keras.optimizers.Adam(learning_rate = lr)\n",
    "        if self.mode == 'log_reg':\n",
    "            \"\"\"\n",
    "            Flatten then logistic regression\n",
    "            \"\"\"\n",
    "            model = tf.keras.Sequential()\n",
    "            model.add(tensorflow.keras.layers.Flatten())\n",
    "            model.add(tensorflow.keras.layers.Dense(1, activation = 'sigmoid'))\n",
    "            model.compile(optimizer = optimizer, loss = 'binary_crossentropy', metrics = ['binary_accuracy'])\n",
    "        \n",
    "        elif self.mode == 'mlp':\n",
    "            \"\"\"\n",
    "            Fully connected neural network\n",
    "            \"\"\"\n",
    "            model = tf.keras.Sequential()\n",
    "            model.add(tf.keras.layers.Flatten())\n",
    "            for _ in range(n_hidden_layers):\n",
    "                model.add(tf.keras.layers.Dense(depth_layer, activation = activation_function))\n",
    "            model.add(tf.keras.layers.Dense(1, activation = 'sigmoid'))\n",
    "            model.compile(optimizer = optimizer, loss = 'binary_crossentropy', metrics = ['binary_accuracy'])\n",
    "        \n",
    "        elif self.mode == 'cnn':\n",
    "            model = tf.keras.Sequential()\n",
    "            model.add(tf.keras.layers.Conv2D(16, (3,3), activation = activation_function))\n",
    "            model.add(tf.keras.layers.MaxPooling2D((1,2)))\n",
    "            model.add(tf.keras.layers.Conv2D(32, (3,3), activation = activation_function))\n",
    "            model.add(tf.keras.layers.Flatten())\n",
    "            model.add(tf.keras.layers.Dense(depth_layer, activation = activation_function))\n",
    "            model.add(tf.keras.layers.Dense(1, activation = 'sigmoid'))\n",
    "            model.compile(optimizer = optimizer, loss = 'binary_crossentropy', metrics = ['binary_accuracy'])\n",
    "            \n",
    "        elif self.mode == 'svm':\n",
    "            \"\"\"\n",
    "            Support Vector Machine using sklearn\n",
    "            \"\"\"\n",
    "            model = svm.SVC(\n",
    "                C = C,\n",
    "                kernel = kernel,\n",
    "                gamma = 'scale',\n",
    "                verbose = True,\n",
    "            )\n",
    "            \n",
    "        self.model = model\n",
    "\n",
    "    \n",
    "    def train(self, X_train, y_train, X_val, y_val, epochs = 50, batch_size = 32, plot = True, verbose = 1):\n",
    "        \"\"\"\n",
    "        X_train : list of mfccs in 2D\n",
    "        y_train : list of labels of X_train\n",
    "        X_val : list of mfccs for testing\n",
    "        y_val : list of testing labels\n",
    "        epochs : number of epochs to run\n",
    "        batch_size : number of samples per iteration to perform GD on\n",
    "        plot : if True will plot the results at the end of training\n",
    "        verbose : if 1 will output information while training\n",
    "        \"\"\"\n",
    "        if self.mode == 'svm':\n",
    "            X_train = X_train.reshape(X_train.shape[0], X_train.shape[1] * X_train.shape[2])\n",
    "            X_val = X_val.reshape(X_val.shape[0], X_val.shape[1] * X_val.shape[2])\n",
    "            history = self.model.fit(\n",
    "                X_train,\n",
    "                y_train\n",
    "            )\n",
    "            if verbose == 1:\n",
    "                print(\n",
    "                r\"\"\"training accuracy: {}\n",
    "                test accuracy : {}\"\"\".format(self.model.score(X_train, y_train), self.model.score(X_val, y_val)))\n",
    "            \n",
    "            history = self.model.score(X_val, y_val)\n",
    "            \n",
    "        else:\n",
    "            if self.mode == 'cnn':\n",
    "                # for cnns we have to add a new dimention as input for the required tensors and transpose the samples\n",
    "                X_train = np.transpose(X_train, (0, 2, 1))\n",
    "                X_val = np.transpose(X_val, (0, 2, 1))\n",
    "                X_train = X_train.reshape(X_train.shape[0], X_train.shape[1], X_train.shape[2], 1)\n",
    "                X_val = X_val.reshape(X_val.shape[0], X_val.shape[1], X_val.shape[2], 1)\n",
    "                \n",
    "            history = self.model.fit(\n",
    "                X_train,\n",
    "                y_train,\n",
    "                batch_size = batch_size, \n",
    "                epochs = epochs,\n",
    "                verbose = verbose,\n",
    "                validation_data = (X_val, y_val),\n",
    "                callbacks = [\n",
    "                    tf.keras.callbacks.EarlyStopping(patience = 3),\n",
    "                    tf.keras.callbacks.ReduceLROnPlateau(monitor = 'val_loss', factor = 0.2, patience = 5, min_lr = 1e-6)\n",
    "                ]\n",
    "            )\n",
    "            if plot:\n",
    "                plot_loss(history.history)\n",
    "                plot_accuracy(history.history)\n",
    "\n",
    "        return history\n"
   ]
  },
  {
   "cell_type": "markdown",
   "metadata": {},
   "source": [
    "## Logistic regression"
   ]
  },
  {
   "cell_type": "code",
   "execution_count": 38,
   "metadata": {},
   "outputs": [],
   "source": [
    "learning_rates = np.arange(0, 0.001, 0.00005)[1:]"
   ]
  },
  {
   "cell_type": "code",
   "execution_count": 39,
   "metadata": {},
   "outputs": [],
   "source": [
    "histories = {}\n",
    "for lr in learning_rates:\n",
    "    model = Models(mode = 'log_reg')\n",
    "    model.compile_(lr = lr)\n",
    "    h = model.train(X_train, y_train, X_test, y_test, plot = False, verbose = 0)\n",
    "    histories[lr] = h.history"
   ]
  },
  {
   "cell_type": "code",
   "execution_count": 40,
   "metadata": {},
   "outputs": [],
   "source": [
    "data = []\n",
    "for lr in learning_rates:\n",
    "    data.append([lr, histories[lr]['val_binary_accuracy'][-1]])\n",
    "data = np.array(data)"
   ]
  },
  {
   "cell_type": "code",
   "execution_count": 41,
   "metadata": {},
   "outputs": [
    {
     "data": {
      "text/html": [
       "<div>\n",
       "<style scoped>\n",
       "    .dataframe tbody tr th:only-of-type {\n",
       "        vertical-align: middle;\n",
       "    }\n",
       "\n",
       "    .dataframe tbody tr th {\n",
       "        vertical-align: top;\n",
       "    }\n",
       "\n",
       "    .dataframe thead th {\n",
       "        text-align: right;\n",
       "    }\n",
       "</style>\n",
       "<table border=\"1\" class=\"dataframe\">\n",
       "  <thead>\n",
       "    <tr style=\"text-align: right;\">\n",
       "      <th></th>\n",
       "      <th>learning_rate</th>\n",
       "      <th>test set accuracy</th>\n",
       "    </tr>\n",
       "  </thead>\n",
       "  <tbody>\n",
       "    <tr>\n",
       "      <th>1</th>\n",
       "      <td>0.00005</td>\n",
       "      <td>0.843129</td>\n",
       "    </tr>\n",
       "    <tr>\n",
       "      <th>2</th>\n",
       "      <td>0.00010</td>\n",
       "      <td>0.855229</td>\n",
       "    </tr>\n",
       "    <tr>\n",
       "      <th>3</th>\n",
       "      <td>0.00015</td>\n",
       "      <td>0.872083</td>\n",
       "    </tr>\n",
       "    <tr>\n",
       "      <th>4</th>\n",
       "      <td>0.00020</td>\n",
       "      <td>0.875540</td>\n",
       "    </tr>\n",
       "    <tr>\n",
       "      <th>5</th>\n",
       "      <td>0.00025</td>\n",
       "      <td>0.879430</td>\n",
       "    </tr>\n",
       "    <tr>\n",
       "      <th>6</th>\n",
       "      <td>0.00030</td>\n",
       "      <td>0.882887</td>\n",
       "    </tr>\n",
       "    <tr>\n",
       "      <th>7</th>\n",
       "      <td>0.00035</td>\n",
       "      <td>0.874244</td>\n",
       "    </tr>\n",
       "    <tr>\n",
       "      <th>8</th>\n",
       "      <td>0.00040</td>\n",
       "      <td>0.883319</td>\n",
       "    </tr>\n",
       "    <tr>\n",
       "      <th>9</th>\n",
       "      <td>0.00045</td>\n",
       "      <td>0.872947</td>\n",
       "    </tr>\n",
       "    <tr>\n",
       "      <th>10</th>\n",
       "      <td>0.00050</td>\n",
       "      <td>0.880294</td>\n",
       "    </tr>\n",
       "    <tr>\n",
       "      <th>11</th>\n",
       "      <td>0.00055</td>\n",
       "      <td>0.859983</td>\n",
       "    </tr>\n",
       "    <tr>\n",
       "      <th>12</th>\n",
       "      <td>0.00060</td>\n",
       "      <td>0.872515</td>\n",
       "    </tr>\n",
       "    <tr>\n",
       "      <th>13</th>\n",
       "      <td>0.00065</td>\n",
       "      <td>0.865169</td>\n",
       "    </tr>\n",
       "    <tr>\n",
       "      <th>14</th>\n",
       "      <td>0.00070</td>\n",
       "      <td>0.862143</td>\n",
       "    </tr>\n",
       "    <tr>\n",
       "      <th>15</th>\n",
       "      <td>0.00075</td>\n",
       "      <td>0.884615</td>\n",
       "    </tr>\n",
       "    <tr>\n",
       "      <th>16</th>\n",
       "      <td>0.00080</td>\n",
       "      <td>0.879430</td>\n",
       "    </tr>\n",
       "    <tr>\n",
       "      <th>17</th>\n",
       "      <td>0.00085</td>\n",
       "      <td>0.775281</td>\n",
       "    </tr>\n",
       "    <tr>\n",
       "      <th>18</th>\n",
       "      <td>0.00090</td>\n",
       "      <td>0.891530</td>\n",
       "    </tr>\n",
       "    <tr>\n",
       "      <th>19</th>\n",
       "      <td>0.00095</td>\n",
       "      <td>0.864736</td>\n",
       "    </tr>\n",
       "  </tbody>\n",
       "</table>\n",
       "</div>"
      ],
      "text/plain": [
       "    learning_rate  test set accuracy\n",
       "1         0.00005           0.843129\n",
       "2         0.00010           0.855229\n",
       "3         0.00015           0.872083\n",
       "4         0.00020           0.875540\n",
       "5         0.00025           0.879430\n",
       "6         0.00030           0.882887\n",
       "7         0.00035           0.874244\n",
       "8         0.00040           0.883319\n",
       "9         0.00045           0.872947\n",
       "10        0.00050           0.880294\n",
       "11        0.00055           0.859983\n",
       "12        0.00060           0.872515\n",
       "13        0.00065           0.865169\n",
       "14        0.00070           0.862143\n",
       "15        0.00075           0.884615\n",
       "16        0.00080           0.879430\n",
       "17        0.00085           0.775281\n",
       "18        0.00090           0.891530\n",
       "19        0.00095           0.864736"
      ]
     },
     "execution_count": 41,
     "metadata": {},
     "output_type": "execute_result"
    }
   ],
   "source": [
    "import pandas as pd\n",
    "\n",
    "pd.DataFrame(data, np.arange(19)+1, ['learning_rate', 'test set accuracy'])"
   ]
  },
  {
   "cell_type": "code",
   "execution_count": 53,
   "metadata": {},
   "outputs": [],
   "source": [
    "best_lr = round(learning_rates[int(np.argmax(data[:,1]))], 5)\n",
    "best_val = round(np.max(data[:,1]), 4)"
   ]
  },
  {
   "cell_type": "code",
   "execution_count": 54,
   "metadata": {},
   "outputs": [
    {
     "name": "stdout",
     "output_type": "stream",
     "text": [
      "The best learning rate is of 0.0009 for an accuracy of 0.8915\n"
     ]
    }
   ],
   "source": [
    "print('The best learning rate is of {} for an accuracy of {}'.format(best_lr, best_val))"
   ]
  },
  {
   "cell_type": "code",
   "execution_count": 55,
   "metadata": {},
   "outputs": [
    {
     "data": {
      "image/png": "[encoded data removed]",
      "text/plain": [
       "<Figure size 432x288 with 1 Axes>"
      ]
     },
     "metadata": {
      "needs_background": "light"
     },
     "output_type": "display_data"
    }
   ],
   "source": [
    "plt.figure()\n",
    "plt.plot(data[:,0], data[:,1])\n",
    "plt.xlabel('learning rate')\n",
    "plt.ylabel('validation accuracy')\n",
    "plt.show()"
   ]
  },
  {
   "cell_type": "markdown",
   "metadata": {},
   "source": [
    "## MLP"
   ]
  },
  {
   "cell_type": "code",
   "execution_count": 18,
   "metadata": {},
   "outputs": [],
   "source": [
    "num_layers = [2,3]\n",
    "depth_layers = [16, 32]\n",
    "learning_rates = np.arange(0, 0.001, 0.00005)[1:]\n",
    "\n",
    "data = []\n",
    "\n",
    "for n in num_layers:\n",
    "    for d in depth_layers:\n",
    "        histories = {}\n",
    "        for lr in learning_rates:\n",
    "            model = Models(mode = 'mlp')\n",
    "            model.compile_(n_hidden_layers = n, depth_layer = d, lr = lr)\n",
    "            h = model.train(X_train, y_train, X_test, y_test, plot = False, verbose = 0)\n",
    "            histories[lr] = h.history['val_binary_accuracy'][-1]\n",
    "        \n",
    "        data.append(histories)"
   ]
  },
  {
   "cell_type": "code",
   "execution_count": 19,
   "metadata": {},
   "outputs": [],
   "source": [
    "dfs = []\n",
    "i = 0\n",
    "for n in num_layers:\n",
    "    for d in depth_layers:\n",
    "        l = []\n",
    "        for lr in learning_rates:\n",
    "            l.append(data[i][lr])\n",
    "        df = pd.DataFrame(l, np.arange(len(learning_rates))+1, ['test set accuracy'])\n",
    "        df['learning_rates'] = learning_rates\n",
    "        dfs.append(df)\n",
    "        i+=1"
   ]
  },
  {
   "cell_type": "code",
   "execution_count": 20,
   "metadata": {},
   "outputs": [
    {
     "name": "stdout",
     "output_type": "stream",
     "text": [
      "num_layers = 2; depth_layers = 16\n"
     ]
    },
    {
     "data": {
      "text/html": [
       "<div>\n",
       "<style scoped>\n",
       "    .dataframe tbody tr th:only-of-type {\n",
       "        vertical-align: middle;\n",
       "    }\n",
       "\n",
       "    .dataframe tbody tr th {\n",
       "        vertical-align: top;\n",
       "    }\n",
       "\n",
       "    .dataframe thead th {\n",
       "        text-align: right;\n",
       "    }\n",
       "</style>\n",
       "<table border=\"1\" class=\"dataframe\">\n",
       "  <thead>\n",
       "    <tr style=\"text-align: right;\">\n",
       "      <th></th>\n",
       "      <th>test set accuracy</th>\n",
       "      <th>learning_rates</th>\n",
       "    </tr>\n",
       "  </thead>\n",
       "  <tbody>\n",
       "    <tr>\n",
       "      <th>1</th>\n",
       "      <td>0.891530</td>\n",
       "      <td>0.00005</td>\n",
       "    </tr>\n",
       "    <tr>\n",
       "      <th>2</th>\n",
       "      <td>0.890666</td>\n",
       "      <td>0.00010</td>\n",
       "    </tr>\n",
       "    <tr>\n",
       "      <th>3</th>\n",
       "      <td>0.868626</td>\n",
       "      <td>0.00015</td>\n",
       "    </tr>\n",
       "    <tr>\n",
       "      <th>4</th>\n",
       "      <td>0.885912</td>\n",
       "      <td>0.00020</td>\n",
       "    </tr>\n",
       "    <tr>\n",
       "      <th>5</th>\n",
       "      <td>0.900605</td>\n",
       "      <td>0.00025</td>\n",
       "    </tr>\n",
       "    <tr>\n",
       "      <th>6</th>\n",
       "      <td>0.886344</td>\n",
       "      <td>0.00030</td>\n",
       "    </tr>\n",
       "    <tr>\n",
       "      <th>7</th>\n",
       "      <td>0.888505</td>\n",
       "      <td>0.00035</td>\n",
       "    </tr>\n",
       "    <tr>\n",
       "      <th>8</th>\n",
       "      <td>0.894987</td>\n",
       "      <td>0.00040</td>\n",
       "    </tr>\n",
       "    <tr>\n",
       "      <th>9</th>\n",
       "      <td>0.889801</td>\n",
       "      <td>0.00045</td>\n",
       "    </tr>\n",
       "    <tr>\n",
       "      <th>10</th>\n",
       "      <td>0.851772</td>\n",
       "      <td>0.00050</td>\n",
       "    </tr>\n",
       "    <tr>\n",
       "      <th>11</th>\n",
       "      <td>0.887208</td>\n",
       "      <td>0.00055</td>\n",
       "    </tr>\n",
       "    <tr>\n",
       "      <th>12</th>\n",
       "      <td>0.887208</td>\n",
       "      <td>0.00060</td>\n",
       "    </tr>\n",
       "    <tr>\n",
       "      <th>13</th>\n",
       "      <td>0.880294</td>\n",
       "      <td>0.00065</td>\n",
       "    </tr>\n",
       "    <tr>\n",
       "      <th>14</th>\n",
       "      <td>0.895419</td>\n",
       "      <td>0.00070</td>\n",
       "    </tr>\n",
       "    <tr>\n",
       "      <th>15</th>\n",
       "      <td>0.901901</td>\n",
       "      <td>0.00075</td>\n",
       "    </tr>\n",
       "    <tr>\n",
       "      <th>16</th>\n",
       "      <td>0.901037</td>\n",
       "      <td>0.00080</td>\n",
       "    </tr>\n",
       "    <tr>\n",
       "      <th>17</th>\n",
       "      <td>0.887208</td>\n",
       "      <td>0.00085</td>\n",
       "    </tr>\n",
       "    <tr>\n",
       "      <th>18</th>\n",
       "      <td>0.889801</td>\n",
       "      <td>0.00090</td>\n",
       "    </tr>\n",
       "    <tr>\n",
       "      <th>19</th>\n",
       "      <td>0.893258</td>\n",
       "      <td>0.00095</td>\n",
       "    </tr>\n",
       "  </tbody>\n",
       "</table>\n",
       "</div>"
      ],
      "text/plain": [
       "    test set accuracy  learning_rates\n",
       "1            0.891530         0.00005\n",
       "2            0.890666         0.00010\n",
       "3            0.868626         0.00015\n",
       "4            0.885912         0.00020\n",
       "5            0.900605         0.00025\n",
       "6            0.886344         0.00030\n",
       "7            0.888505         0.00035\n",
       "8            0.894987         0.00040\n",
       "9            0.889801         0.00045\n",
       "10           0.851772         0.00050\n",
       "11           0.887208         0.00055\n",
       "12           0.887208         0.00060\n",
       "13           0.880294         0.00065\n",
       "14           0.895419         0.00070\n",
       "15           0.901901         0.00075\n",
       "16           0.901037         0.00080\n",
       "17           0.887208         0.00085\n",
       "18           0.889801         0.00090\n",
       "19           0.893258         0.00095"
      ]
     },
     "execution_count": 20,
     "metadata": {},
     "output_type": "execute_result"
    }
   ],
   "source": [
    "print('num_layers = {}; depth_layers = {}'.format(num_layers[0], depth_layers[0]))\n",
    "dfs[0]"
   ]
  },
  {
   "cell_type": "code",
   "execution_count": 21,
   "metadata": {},
   "outputs": [
    {
     "data": {
      "image/png": "[encoded data removed]",
      "text/plain": [
       "<Figure size 432x288 with 1 Axes>"
      ]
     },
     "metadata": {
      "needs_background": "light"
     },
     "output_type": "display_data"
    }
   ],
   "source": [
    "plt.figure()\n",
    "plt.plot(dfs[0]['learning_rates'], dfs[0]['test set accuracy'])\n",
    "plt.show()"
   ]
  },
  {
   "cell_type": "code",
   "execution_count": 22,
   "metadata": {},
   "outputs": [
    {
     "data": {
      "text/plain": [
       "0.9019014835357666"
      ]
     },
     "execution_count": 22,
     "metadata": {},
     "output_type": "execute_result"
    }
   ],
   "source": [
    "max0 = np.max(dfs[0]['test set accuracy'])\n",
    "max0"
   ]
  },
  {
   "cell_type": "code",
   "execution_count": 23,
   "metadata": {},
   "outputs": [
    {
     "name": "stdout",
     "output_type": "stream",
     "text": [
      "num_layers = 2; depth_layers = 32\n"
     ]
    },
    {
     "data": {
      "text/html": [
       "<div>\n",
       "<style scoped>\n",
       "    .dataframe tbody tr th:only-of-type {\n",
       "        vertical-align: middle;\n",
       "    }\n",
       "\n",
       "    .dataframe tbody tr th {\n",
       "        vertical-align: top;\n",
       "    }\n",
       "\n",
       "    .dataframe thead th {\n",
       "        text-align: right;\n",
       "    }\n",
       "</style>\n",
       "<table border=\"1\" class=\"dataframe\">\n",
       "  <thead>\n",
       "    <tr style=\"text-align: right;\">\n",
       "      <th></th>\n",
       "      <th>test set accuracy</th>\n",
       "      <th>learning_rates</th>\n",
       "    </tr>\n",
       "  </thead>\n",
       "  <tbody>\n",
       "    <tr>\n",
       "      <th>1</th>\n",
       "      <td>0.885048</td>\n",
       "      <td>0.00005</td>\n",
       "    </tr>\n",
       "    <tr>\n",
       "      <th>2</th>\n",
       "      <td>0.893258</td>\n",
       "      <td>0.00010</td>\n",
       "    </tr>\n",
       "    <tr>\n",
       "      <th>3</th>\n",
       "      <td>0.876405</td>\n",
       "      <td>0.00015</td>\n",
       "    </tr>\n",
       "    <tr>\n",
       "      <th>4</th>\n",
       "      <td>0.895419</td>\n",
       "      <td>0.00020</td>\n",
       "    </tr>\n",
       "    <tr>\n",
       "      <th>5</th>\n",
       "      <td>0.895851</td>\n",
       "      <td>0.00025</td>\n",
       "    </tr>\n",
       "    <tr>\n",
       "      <th>6</th>\n",
       "      <td>0.888937</td>\n",
       "      <td>0.00030</td>\n",
       "    </tr>\n",
       "    <tr>\n",
       "      <th>7</th>\n",
       "      <td>0.883751</td>\n",
       "      <td>0.00035</td>\n",
       "    </tr>\n",
       "    <tr>\n",
       "      <th>8</th>\n",
       "      <td>0.895419</td>\n",
       "      <td>0.00040</td>\n",
       "    </tr>\n",
       "    <tr>\n",
       "      <th>9</th>\n",
       "      <td>0.869490</td>\n",
       "      <td>0.00045</td>\n",
       "    </tr>\n",
       "    <tr>\n",
       "      <th>10</th>\n",
       "      <td>0.899741</td>\n",
       "      <td>0.00050</td>\n",
       "    </tr>\n",
       "    <tr>\n",
       "      <th>11</th>\n",
       "      <td>0.898444</td>\n",
       "      <td>0.00055</td>\n",
       "    </tr>\n",
       "    <tr>\n",
       "      <th>12</th>\n",
       "      <td>0.894987</td>\n",
       "      <td>0.00060</td>\n",
       "    </tr>\n",
       "    <tr>\n",
       "      <th>13</th>\n",
       "      <td>0.887640</td>\n",
       "      <td>0.00065</td>\n",
       "    </tr>\n",
       "    <tr>\n",
       "      <th>14</th>\n",
       "      <td>0.893691</td>\n",
       "      <td>0.00070</td>\n",
       "    </tr>\n",
       "    <tr>\n",
       "      <th>15</th>\n",
       "      <td>0.875108</td>\n",
       "      <td>0.00075</td>\n",
       "    </tr>\n",
       "    <tr>\n",
       "      <th>16</th>\n",
       "      <td>0.887640</td>\n",
       "      <td>0.00080</td>\n",
       "    </tr>\n",
       "    <tr>\n",
       "      <th>17</th>\n",
       "      <td>0.898444</td>\n",
       "      <td>0.00085</td>\n",
       "    </tr>\n",
       "    <tr>\n",
       "      <th>18</th>\n",
       "      <td>0.869490</td>\n",
       "      <td>0.00090</td>\n",
       "    </tr>\n",
       "    <tr>\n",
       "      <th>19</th>\n",
       "      <td>0.877701</td>\n",
       "      <td>0.00095</td>\n",
       "    </tr>\n",
       "  </tbody>\n",
       "</table>\n",
       "</div>"
      ],
      "text/plain": [
       "    test set accuracy  learning_rates\n",
       "1            0.885048         0.00005\n",
       "2            0.893258         0.00010\n",
       "3            0.876405         0.00015\n",
       "4            0.895419         0.00020\n",
       "5            0.895851         0.00025\n",
       "6            0.888937         0.00030\n",
       "7            0.883751         0.00035\n",
       "8            0.895419         0.00040\n",
       "9            0.869490         0.00045\n",
       "10           0.899741         0.00050\n",
       "11           0.898444         0.00055\n",
       "12           0.894987         0.00060\n",
       "13           0.887640         0.00065\n",
       "14           0.893691         0.00070\n",
       "15           0.875108         0.00075\n",
       "16           0.887640         0.00080\n",
       "17           0.898444         0.00085\n",
       "18           0.869490         0.00090\n",
       "19           0.877701         0.00095"
      ]
     },
     "execution_count": 23,
     "metadata": {},
     "output_type": "execute_result"
    }
   ],
   "source": [
    "print('num_layers = {}; depth_layers = {}'.format(num_layers[0], depth_layers[1]))\n",
    "dfs[1]"
   ]
  },
  {
   "cell_type": "code",
   "execution_count": 24,
   "metadata": {},
   "outputs": [
    {
     "data": {
      "image/png": "[encoded data removed]",
      "text/plain": [
       "<Figure size 432x288 with 1 Axes>"
      ]
     },
     "metadata": {
      "needs_background": "light"
     },
     "output_type": "display_data"
    }
   ],
   "source": [
    "plt.figure()\n",
    "plt.plot(dfs[1]['learning_rates'], dfs[1]['test set accuracy'])\n",
    "plt.show()"
   ]
  },
  {
   "cell_type": "code",
   "execution_count": 25,
   "metadata": {},
   "outputs": [
    {
     "data": {
      "text/plain": [
       "0.8997406959533691"
      ]
     },
     "execution_count": 25,
     "metadata": {},
     "output_type": "execute_result"
    }
   ],
   "source": [
    "max1 = np.max(dfs[1]['test set accuracy'])\n",
    "max1"
   ]
  },
  {
   "cell_type": "code",
   "execution_count": 26,
   "metadata": {},
   "outputs": [
    {
     "name": "stdout",
     "output_type": "stream",
     "text": [
      "num_layers = 3; depth_layers = 16\n"
     ]
    },
    {
     "data": {
      "text/html": [
       "<div>\n",
       "<style scoped>\n",
       "    .dataframe tbody tr th:only-of-type {\n",
       "        vertical-align: middle;\n",
       "    }\n",
       "\n",
       "    .dataframe tbody tr th {\n",
       "        vertical-align: top;\n",
       "    }\n",
       "\n",
       "    .dataframe thead th {\n",
       "        text-align: right;\n",
       "    }\n",
       "</style>\n",
       "<table border=\"1\" class=\"dataframe\">\n",
       "  <thead>\n",
       "    <tr style=\"text-align: right;\">\n",
       "      <th></th>\n",
       "      <th>test set accuracy</th>\n",
       "      <th>learning_rates</th>\n",
       "    </tr>\n",
       "  </thead>\n",
       "  <tbody>\n",
       "    <tr>\n",
       "      <th>1</th>\n",
       "      <td>0.885912</td>\n",
       "      <td>0.00005</td>\n",
       "    </tr>\n",
       "    <tr>\n",
       "      <th>2</th>\n",
       "      <td>0.890666</td>\n",
       "      <td>0.00010</td>\n",
       "    </tr>\n",
       "    <tr>\n",
       "      <th>3</th>\n",
       "      <td>0.897148</td>\n",
       "      <td>0.00015</td>\n",
       "    </tr>\n",
       "    <tr>\n",
       "      <th>4</th>\n",
       "      <td>0.895419</td>\n",
       "      <td>0.00020</td>\n",
       "    </tr>\n",
       "    <tr>\n",
       "      <th>5</th>\n",
       "      <td>0.904062</td>\n",
       "      <td>0.00025</td>\n",
       "    </tr>\n",
       "    <tr>\n",
       "      <th>6</th>\n",
       "      <td>0.898012</td>\n",
       "      <td>0.00030</td>\n",
       "    </tr>\n",
       "    <tr>\n",
       "      <th>7</th>\n",
       "      <td>0.901469</td>\n",
       "      <td>0.00035</td>\n",
       "    </tr>\n",
       "    <tr>\n",
       "      <th>8</th>\n",
       "      <td>0.895851</td>\n",
       "      <td>0.00040</td>\n",
       "    </tr>\n",
       "    <tr>\n",
       "      <th>9</th>\n",
       "      <td>0.898444</td>\n",
       "      <td>0.00045</td>\n",
       "    </tr>\n",
       "    <tr>\n",
       "      <th>10</th>\n",
       "      <td>0.863872</td>\n",
       "      <td>0.00050</td>\n",
       "    </tr>\n",
       "    <tr>\n",
       "      <th>11</th>\n",
       "      <td>0.894123</td>\n",
       "      <td>0.00055</td>\n",
       "    </tr>\n",
       "    <tr>\n",
       "      <th>12</th>\n",
       "      <td>0.893691</td>\n",
       "      <td>0.00060</td>\n",
       "    </tr>\n",
       "    <tr>\n",
       "      <th>13</th>\n",
       "      <td>0.896716</td>\n",
       "      <td>0.00065</td>\n",
       "    </tr>\n",
       "    <tr>\n",
       "      <th>14</th>\n",
       "      <td>0.888505</td>\n",
       "      <td>0.00070</td>\n",
       "    </tr>\n",
       "    <tr>\n",
       "      <th>15</th>\n",
       "      <td>0.893691</td>\n",
       "      <td>0.00075</td>\n",
       "    </tr>\n",
       "    <tr>\n",
       "      <th>16</th>\n",
       "      <td>0.899741</td>\n",
       "      <td>0.00080</td>\n",
       "    </tr>\n",
       "    <tr>\n",
       "      <th>17</th>\n",
       "      <td>0.897580</td>\n",
       "      <td>0.00085</td>\n",
       "    </tr>\n",
       "    <tr>\n",
       "      <th>18</th>\n",
       "      <td>0.881158</td>\n",
       "      <td>0.00090</td>\n",
       "    </tr>\n",
       "    <tr>\n",
       "      <th>19</th>\n",
       "      <td>0.867329</td>\n",
       "      <td>0.00095</td>\n",
       "    </tr>\n",
       "  </tbody>\n",
       "</table>\n",
       "</div>"
      ],
      "text/plain": [
       "    test set accuracy  learning_rates\n",
       "1            0.885912         0.00005\n",
       "2            0.890666         0.00010\n",
       "3            0.897148         0.00015\n",
       "4            0.895419         0.00020\n",
       "5            0.904062         0.00025\n",
       "6            0.898012         0.00030\n",
       "7            0.901469         0.00035\n",
       "8            0.895851         0.00040\n",
       "9            0.898444         0.00045\n",
       "10           0.863872         0.00050\n",
       "11           0.894123         0.00055\n",
       "12           0.893691         0.00060\n",
       "13           0.896716         0.00065\n",
       "14           0.888505         0.00070\n",
       "15           0.893691         0.00075\n",
       "16           0.899741         0.00080\n",
       "17           0.897580         0.00085\n",
       "18           0.881158         0.00090\n",
       "19           0.867329         0.00095"
      ]
     },
     "execution_count": 26,
     "metadata": {},
     "output_type": "execute_result"
    }
   ],
   "source": [
    "print('num_layers = {}; depth_layers = {}'.format(num_layers[1], depth_layers[0]))\n",
    "dfs[2]"
   ]
  },
  {
   "cell_type": "code",
   "execution_count": 27,
   "metadata": {},
   "outputs": [
    {
     "data": {
      "image/png": "[encoded data removed]",
      "text/plain": [
       "<Figure size 432x288 with 1 Axes>"
      ]
     },
     "metadata": {
      "needs_background": "light"
     },
     "output_type": "display_data"
    }
   ],
   "source": [
    "plt.figure()\n",
    "plt.plot(dfs[2]['learning_rates'], dfs[2]['test set accuracy'])\n",
    "plt.show()"
   ]
  },
  {
   "cell_type": "code",
   "execution_count": 28,
   "metadata": {},
   "outputs": [
    {
     "data": {
      "text/plain": [
       "0.9040622115135193"
      ]
     },
     "execution_count": 28,
     "metadata": {},
     "output_type": "execute_result"
    }
   ],
   "source": [
    "max2 = np.max(dfs[2]['test set accuracy'])\n",
    "max2"
   ]
  },
  {
   "cell_type": "code",
   "execution_count": 29,
   "metadata": {},
   "outputs": [
    {
     "name": "stdout",
     "output_type": "stream",
     "text": [
      "num_layers = 3; depth_layers = 32\n"
     ]
    },
    {
     "data": {
      "text/html": [
       "<div>\n",
       "<style scoped>\n",
       "    .dataframe tbody tr th:only-of-type {\n",
       "        vertical-align: middle;\n",
       "    }\n",
       "\n",
       "    .dataframe tbody tr th {\n",
       "        vertical-align: top;\n",
       "    }\n",
       "\n",
       "    .dataframe thead th {\n",
       "        text-align: right;\n",
       "    }\n",
       "</style>\n",
       "<table border=\"1\" class=\"dataframe\">\n",
       "  <thead>\n",
       "    <tr style=\"text-align: right;\">\n",
       "      <th></th>\n",
       "      <th>test set accuracy</th>\n",
       "      <th>learning_rates</th>\n",
       "    </tr>\n",
       "  </thead>\n",
       "  <tbody>\n",
       "    <tr>\n",
       "      <th>1</th>\n",
       "      <td>0.894987</td>\n",
       "      <td>0.00005</td>\n",
       "    </tr>\n",
       "    <tr>\n",
       "      <th>2</th>\n",
       "      <td>0.889801</td>\n",
       "      <td>0.00010</td>\n",
       "    </tr>\n",
       "    <tr>\n",
       "      <th>3</th>\n",
       "      <td>0.890233</td>\n",
       "      <td>0.00015</td>\n",
       "    </tr>\n",
       "    <tr>\n",
       "      <th>4</th>\n",
       "      <td>0.885048</td>\n",
       "      <td>0.00020</td>\n",
       "    </tr>\n",
       "    <tr>\n",
       "      <th>5</th>\n",
       "      <td>0.900605</td>\n",
       "      <td>0.00025</td>\n",
       "    </tr>\n",
       "    <tr>\n",
       "      <th>6</th>\n",
       "      <td>0.890233</td>\n",
       "      <td>0.00030</td>\n",
       "    </tr>\n",
       "    <tr>\n",
       "      <th>7</th>\n",
       "      <td>0.877269</td>\n",
       "      <td>0.00035</td>\n",
       "    </tr>\n",
       "    <tr>\n",
       "      <th>8</th>\n",
       "      <td>0.895851</td>\n",
       "      <td>0.00040</td>\n",
       "    </tr>\n",
       "    <tr>\n",
       "      <th>9</th>\n",
       "      <td>0.905359</td>\n",
       "      <td>0.00045</td>\n",
       "    </tr>\n",
       "    <tr>\n",
       "      <th>10</th>\n",
       "      <td>0.899741</td>\n",
       "      <td>0.00050</td>\n",
       "    </tr>\n",
       "    <tr>\n",
       "      <th>11</th>\n",
       "      <td>0.895851</td>\n",
       "      <td>0.00055</td>\n",
       "    </tr>\n",
       "    <tr>\n",
       "      <th>12</th>\n",
       "      <td>0.886344</td>\n",
       "      <td>0.00060</td>\n",
       "    </tr>\n",
       "    <tr>\n",
       "      <th>13</th>\n",
       "      <td>0.907519</td>\n",
       "      <td>0.00065</td>\n",
       "    </tr>\n",
       "    <tr>\n",
       "      <th>14</th>\n",
       "      <td>0.903198</td>\n",
       "      <td>0.00070</td>\n",
       "    </tr>\n",
       "    <tr>\n",
       "      <th>15</th>\n",
       "      <td>0.879430</td>\n",
       "      <td>0.00075</td>\n",
       "    </tr>\n",
       "    <tr>\n",
       "      <th>16</th>\n",
       "      <td>0.881590</td>\n",
       "      <td>0.00080</td>\n",
       "    </tr>\n",
       "    <tr>\n",
       "      <th>17</th>\n",
       "      <td>0.880726</td>\n",
       "      <td>0.00085</td>\n",
       "    </tr>\n",
       "    <tr>\n",
       "      <th>18</th>\n",
       "      <td>0.885480</td>\n",
       "      <td>0.00090</td>\n",
       "    </tr>\n",
       "    <tr>\n",
       "      <th>19</th>\n",
       "      <td>0.899309</td>\n",
       "      <td>0.00095</td>\n",
       "    </tr>\n",
       "  </tbody>\n",
       "</table>\n",
       "</div>"
      ],
      "text/plain": [
       "    test set accuracy  learning_rates\n",
       "1            0.894987         0.00005\n",
       "2            0.889801         0.00010\n",
       "3            0.890233         0.00015\n",
       "4            0.885048         0.00020\n",
       "5            0.900605         0.00025\n",
       "6            0.890233         0.00030\n",
       "7            0.877269         0.00035\n",
       "8            0.895851         0.00040\n",
       "9            0.905359         0.00045\n",
       "10           0.899741         0.00050\n",
       "11           0.895851         0.00055\n",
       "12           0.886344         0.00060\n",
       "13           0.907519         0.00065\n",
       "14           0.903198         0.00070\n",
       "15           0.879430         0.00075\n",
       "16           0.881590         0.00080\n",
       "17           0.880726         0.00085\n",
       "18           0.885480         0.00090\n",
       "19           0.899309         0.00095"
      ]
     },
     "execution_count": 29,
     "metadata": {},
     "output_type": "execute_result"
    }
   ],
   "source": [
    "print('num_layers = {}; depth_layers = {}'.format(num_layers[1], depth_layers[1]))\n",
    "dfs[3]"
   ]
  },
  {
   "cell_type": "code",
   "execution_count": 30,
   "metadata": {},
   "outputs": [
    {
     "data": {
      "image/png": "[encoded data removed]",
      "text/plain": [
       "<Figure size 432x288 with 1 Axes>"
      ]
     },
     "metadata": {
      "needs_background": "light"
     },
     "output_type": "display_data"
    }
   ],
   "source": [
    "plt.figure()\n",
    "plt.plot(dfs[3]['learning_rates'], dfs[3]['test set accuracy'])\n",
    "plt.show()"
   ]
  },
  {
   "cell_type": "code",
   "execution_count": 31,
   "metadata": {},
   "outputs": [
    {
     "data": {
      "text/plain": [
       "0.9075194597244263"
      ]
     },
     "execution_count": 31,
     "metadata": {},
     "output_type": "execute_result"
    }
   ],
   "source": [
    "max3 = np.max(dfs[3]['test set accuracy'])\n",
    "max3"
   ]
  },
  {
   "cell_type": "code",
   "execution_count": 32,
   "metadata": {},
   "outputs": [
    {
     "data": {
      "text/plain": [
       "0.9075194597244263"
      ]
     },
     "execution_count": 32,
     "metadata": {},
     "output_type": "execute_result"
    }
   ],
   "source": [
    "np.max([max0, max1, max2, max3])"
   ]
  },
  {
   "cell_type": "markdown",
   "metadata": {},
   "source": [
    "## CNN"
   ]
  },
  {
   "cell_type": "code",
   "execution_count": 56,
   "metadata": {},
   "outputs": [],
   "source": [
    "activations = ['relu', 'tanh', 'selu']\n",
    "learning_rates = np.arange(0, 0.001, 0.00005)[1:]\n",
    "\n",
    "data = []\n",
    "\n",
    "for activation_function in activations:\n",
    "    histories = {}\n",
    "    for lr in learning_rates:\n",
    "        model = Models(mode = 'cnn')\n",
    "        model.compile_(activation_function = activation_function, lr = lr)\n",
    "        h = model.train(X_train, y_train, X_test, y_test, plot = False, verbose = 0)\n",
    "        histories[lr] = h.history['val_binary_accuracy'][-1]\n",
    "\n",
    "    data.append(histories)"
   ]
  },
  {
   "cell_type": "code",
   "execution_count": 57,
   "metadata": {},
   "outputs": [],
   "source": [
    "dfs = []\n",
    "\n",
    "for d in data:\n",
    "    l = []\n",
    "    df = pd.DataFrame()\n",
    "    for lr in learning_rates:\n",
    "        l.append(d[lr])\n",
    "    df['learning_rates'] = learning_rates\n",
    "    df['validation accuracy'] = l\n",
    "    dfs.append(df)"
   ]
  },
  {
   "cell_type": "code",
   "execution_count": 64,
   "metadata": {},
   "outputs": [
    {
     "name": "stdout",
     "output_type": "stream",
     "text": [
      "activation function: relu\n"
     ]
    },
    {
     "data": {
      "text/html": [
       "<div>\n",
       "<style scoped>\n",
       "    .dataframe tbody tr th:only-of-type {\n",
       "        vertical-align: middle;\n",
       "    }\n",
       "\n",
       "    .dataframe tbody tr th {\n",
       "        vertical-align: top;\n",
       "    }\n",
       "\n",
       "    .dataframe thead th {\n",
       "        text-align: right;\n",
       "    }\n",
       "</style>\n",
       "<table border=\"1\" class=\"dataframe\">\n",
       "  <thead>\n",
       "    <tr style=\"text-align: right;\">\n",
       "      <th></th>\n",
       "      <th>learning_rates</th>\n",
       "      <th>validation accuracy</th>\n",
       "    </tr>\n",
       "  </thead>\n",
       "  <tbody>\n",
       "    <tr>\n",
       "      <th>0</th>\n",
       "      <td>0.00005</td>\n",
       "      <td>0.877269</td>\n",
       "    </tr>\n",
       "    <tr>\n",
       "      <th>1</th>\n",
       "      <td>0.00010</td>\n",
       "      <td>0.914866</td>\n",
       "    </tr>\n",
       "    <tr>\n",
       "      <th>2</th>\n",
       "      <td>0.00015</td>\n",
       "      <td>0.904494</td>\n",
       "    </tr>\n",
       "    <tr>\n",
       "      <th>3</th>\n",
       "      <td>0.00020</td>\n",
       "      <td>0.884615</td>\n",
       "    </tr>\n",
       "    <tr>\n",
       "      <th>4</th>\n",
       "      <td>0.00025</td>\n",
       "      <td>0.906223</td>\n",
       "    </tr>\n",
       "    <tr>\n",
       "      <th>5</th>\n",
       "      <td>0.00030</td>\n",
       "      <td>0.902766</td>\n",
       "    </tr>\n",
       "    <tr>\n",
       "      <th>6</th>\n",
       "      <td>0.00035</td>\n",
       "      <td>0.876405</td>\n",
       "    </tr>\n",
       "    <tr>\n",
       "      <th>7</th>\n",
       "      <td>0.00040</td>\n",
       "      <td>0.909680</td>\n",
       "    </tr>\n",
       "    <tr>\n",
       "      <th>8</th>\n",
       "      <td>0.00045</td>\n",
       "      <td>0.888937</td>\n",
       "    </tr>\n",
       "    <tr>\n",
       "      <th>9</th>\n",
       "      <td>0.00050</td>\n",
       "      <td>0.901037</td>\n",
       "    </tr>\n",
       "    <tr>\n",
       "      <th>10</th>\n",
       "      <td>0.00055</td>\n",
       "      <td>0.901901</td>\n",
       "    </tr>\n",
       "    <tr>\n",
       "      <th>11</th>\n",
       "      <td>0.00060</td>\n",
       "      <td>0.900605</td>\n",
       "    </tr>\n",
       "    <tr>\n",
       "      <th>12</th>\n",
       "      <td>0.00065</td>\n",
       "      <td>0.897148</td>\n",
       "    </tr>\n",
       "    <tr>\n",
       "      <th>13</th>\n",
       "      <td>0.00070</td>\n",
       "      <td>0.900173</td>\n",
       "    </tr>\n",
       "    <tr>\n",
       "      <th>14</th>\n",
       "      <td>0.00075</td>\n",
       "      <td>0.895419</td>\n",
       "    </tr>\n",
       "    <tr>\n",
       "      <th>15</th>\n",
       "      <td>0.00080</td>\n",
       "      <td>0.904494</td>\n",
       "    </tr>\n",
       "    <tr>\n",
       "      <th>16</th>\n",
       "      <td>0.00085</td>\n",
       "      <td>0.908384</td>\n",
       "    </tr>\n",
       "    <tr>\n",
       "      <th>17</th>\n",
       "      <td>0.00090</td>\n",
       "      <td>0.898444</td>\n",
       "    </tr>\n",
       "    <tr>\n",
       "      <th>18</th>\n",
       "      <td>0.00095</td>\n",
       "      <td>0.910112</td>\n",
       "    </tr>\n",
       "  </tbody>\n",
       "</table>\n",
       "</div>"
      ],
      "text/plain": [
       "    learning_rates  validation accuracy\n",
       "0          0.00005             0.877269\n",
       "1          0.00010             0.914866\n",
       "2          0.00015             0.904494\n",
       "3          0.00020             0.884615\n",
       "4          0.00025             0.906223\n",
       "5          0.00030             0.902766\n",
       "6          0.00035             0.876405\n",
       "7          0.00040             0.909680\n",
       "8          0.00045             0.888937\n",
       "9          0.00050             0.901037\n",
       "10         0.00055             0.901901\n",
       "11         0.00060             0.900605\n",
       "12         0.00065             0.897148\n",
       "13         0.00070             0.900173\n",
       "14         0.00075             0.895419\n",
       "15         0.00080             0.904494\n",
       "16         0.00085             0.908384\n",
       "17         0.00090             0.898444\n",
       "18         0.00095             0.910112"
      ]
     },
     "execution_count": 64,
     "metadata": {},
     "output_type": "execute_result"
    }
   ],
   "source": [
    "print('activation function: {}'.format(activations[0]))\n",
    "dfs[0]"
   ]
  },
  {
   "cell_type": "code",
   "execution_count": 67,
   "metadata": {},
   "outputs": [
    {
     "data": {
      "text/plain": [
       "0.914866030216217"
      ]
     },
     "execution_count": 67,
     "metadata": {},
     "output_type": "execute_result"
    }
   ],
   "source": [
    "np.max(dfs[0]['validation accuracy'])"
   ]
  },
  {
   "cell_type": "code",
   "execution_count": 70,
   "metadata": {},
   "outputs": [
    {
     "name": "stdout",
     "output_type": "stream",
     "text": [
      "activation function: tanh\n"
     ]
    },
    {
     "data": {
      "text/html": [
       "<div>\n",
       "<style scoped>\n",
       "    .dataframe tbody tr th:only-of-type {\n",
       "        vertical-align: middle;\n",
       "    }\n",
       "\n",
       "    .dataframe tbody tr th {\n",
       "        vertical-align: top;\n",
       "    }\n",
       "\n",
       "    .dataframe thead th {\n",
       "        text-align: right;\n",
       "    }\n",
       "</style>\n",
       "<table border=\"1\" class=\"dataframe\">\n",
       "  <thead>\n",
       "    <tr style=\"text-align: right;\">\n",
       "      <th></th>\n",
       "      <th>learning_rates</th>\n",
       "      <th>validation accuracy</th>\n",
       "    </tr>\n",
       "  </thead>\n",
       "  <tbody>\n",
       "    <tr>\n",
       "      <th>0</th>\n",
       "      <td>0.00005</td>\n",
       "      <td>0.887640</td>\n",
       "    </tr>\n",
       "    <tr>\n",
       "      <th>1</th>\n",
       "      <td>0.00010</td>\n",
       "      <td>0.887208</td>\n",
       "    </tr>\n",
       "    <tr>\n",
       "      <th>2</th>\n",
       "      <td>0.00015</td>\n",
       "      <td>0.890233</td>\n",
       "    </tr>\n",
       "    <tr>\n",
       "      <th>3</th>\n",
       "      <td>0.00020</td>\n",
       "      <td>0.894123</td>\n",
       "    </tr>\n",
       "    <tr>\n",
       "      <th>4</th>\n",
       "      <td>0.00025</td>\n",
       "      <td>0.895851</td>\n",
       "    </tr>\n",
       "    <tr>\n",
       "      <th>5</th>\n",
       "      <td>0.00030</td>\n",
       "      <td>0.883751</td>\n",
       "    </tr>\n",
       "    <tr>\n",
       "      <th>6</th>\n",
       "      <td>0.00035</td>\n",
       "      <td>0.894987</td>\n",
       "    </tr>\n",
       "    <tr>\n",
       "      <th>7</th>\n",
       "      <td>0.00040</td>\n",
       "      <td>0.899309</td>\n",
       "    </tr>\n",
       "    <tr>\n",
       "      <th>8</th>\n",
       "      <td>0.00045</td>\n",
       "      <td>0.890666</td>\n",
       "    </tr>\n",
       "    <tr>\n",
       "      <th>9</th>\n",
       "      <td>0.00050</td>\n",
       "      <td>0.891962</td>\n",
       "    </tr>\n",
       "    <tr>\n",
       "      <th>10</th>\n",
       "      <td>0.00055</td>\n",
       "      <td>0.879862</td>\n",
       "    </tr>\n",
       "    <tr>\n",
       "      <th>11</th>\n",
       "      <td>0.00060</td>\n",
       "      <td>0.891530</td>\n",
       "    </tr>\n",
       "    <tr>\n",
       "      <th>12</th>\n",
       "      <td>0.00065</td>\n",
       "      <td>0.878997</td>\n",
       "    </tr>\n",
       "    <tr>\n",
       "      <th>13</th>\n",
       "      <td>0.00070</td>\n",
       "      <td>0.895851</td>\n",
       "    </tr>\n",
       "    <tr>\n",
       "      <th>14</th>\n",
       "      <td>0.00075</td>\n",
       "      <td>0.888505</td>\n",
       "    </tr>\n",
       "    <tr>\n",
       "      <th>15</th>\n",
       "      <td>0.00080</td>\n",
       "      <td>0.888937</td>\n",
       "    </tr>\n",
       "    <tr>\n",
       "      <th>16</th>\n",
       "      <td>0.00085</td>\n",
       "      <td>0.894987</td>\n",
       "    </tr>\n",
       "    <tr>\n",
       "      <th>17</th>\n",
       "      <td>0.00090</td>\n",
       "      <td>0.886776</td>\n",
       "    </tr>\n",
       "    <tr>\n",
       "      <th>18</th>\n",
       "      <td>0.00095</td>\n",
       "      <td>0.885912</td>\n",
       "    </tr>\n",
       "  </tbody>\n",
       "</table>\n",
       "</div>"
      ],
      "text/plain": [
       "    learning_rates  validation accuracy\n",
       "0          0.00005             0.887640\n",
       "1          0.00010             0.887208\n",
       "2          0.00015             0.890233\n",
       "3          0.00020             0.894123\n",
       "4          0.00025             0.895851\n",
       "5          0.00030             0.883751\n",
       "6          0.00035             0.894987\n",
       "7          0.00040             0.899309\n",
       "8          0.00045             0.890666\n",
       "9          0.00050             0.891962\n",
       "10         0.00055             0.879862\n",
       "11         0.00060             0.891530\n",
       "12         0.00065             0.878997\n",
       "13         0.00070             0.895851\n",
       "14         0.00075             0.888505\n",
       "15         0.00080             0.888937\n",
       "16         0.00085             0.894987\n",
       "17         0.00090             0.886776\n",
       "18         0.00095             0.885912"
      ]
     },
     "execution_count": 70,
     "metadata": {},
     "output_type": "execute_result"
    }
   ],
   "source": [
    "print('activation function: {}'.format(activations[1]))\n",
    "\n",
    "dfs[1]"
   ]
  },
  {
   "cell_type": "code",
   "execution_count": 72,
   "metadata": {},
   "outputs": [
    {
     "data": {
      "text/plain": [
       "0.8993085622787476"
      ]
     },
     "execution_count": 72,
     "metadata": {},
     "output_type": "execute_result"
    }
   ],
   "source": [
    "np.max(dfs[1]['validation accuracy'])"
   ]
  },
  {
   "cell_type": "code",
   "execution_count": 66,
   "metadata": {},
   "outputs": [
    {
     "name": "stdout",
     "output_type": "stream",
     "text": [
      "activation function: selu\n"
     ]
    },
    {
     "data": {
      "text/html": [
       "<div>\n",
       "<style scoped>\n",
       "    .dataframe tbody tr th:only-of-type {\n",
       "        vertical-align: middle;\n",
       "    }\n",
       "\n",
       "    .dataframe tbody tr th {\n",
       "        vertical-align: top;\n",
       "    }\n",
       "\n",
       "    .dataframe thead th {\n",
       "        text-align: right;\n",
       "    }\n",
       "</style>\n",
       "<table border=\"1\" class=\"dataframe\">\n",
       "  <thead>\n",
       "    <tr style=\"text-align: right;\">\n",
       "      <th></th>\n",
       "      <th>learning_rates</th>\n",
       "      <th>validation accuracy</th>\n",
       "    </tr>\n",
       "  </thead>\n",
       "  <tbody>\n",
       "    <tr>\n",
       "      <th>0</th>\n",
       "      <td>0.00005</td>\n",
       "      <td>0.870354</td>\n",
       "    </tr>\n",
       "    <tr>\n",
       "      <th>1</th>\n",
       "      <td>0.00010</td>\n",
       "      <td>0.866465</td>\n",
       "    </tr>\n",
       "    <tr>\n",
       "      <th>2</th>\n",
       "      <td>0.00015</td>\n",
       "      <td>0.904494</td>\n",
       "    </tr>\n",
       "    <tr>\n",
       "      <th>3</th>\n",
       "      <td>0.00020</td>\n",
       "      <td>0.906223</td>\n",
       "    </tr>\n",
       "    <tr>\n",
       "      <th>4</th>\n",
       "      <td>0.00025</td>\n",
       "      <td>0.895419</td>\n",
       "    </tr>\n",
       "    <tr>\n",
       "      <th>5</th>\n",
       "      <td>0.00030</td>\n",
       "      <td>0.907952</td>\n",
       "    </tr>\n",
       "    <tr>\n",
       "      <th>6</th>\n",
       "      <td>0.00035</td>\n",
       "      <td>0.918755</td>\n",
       "    </tr>\n",
       "    <tr>\n",
       "      <th>7</th>\n",
       "      <td>0.00040</td>\n",
       "      <td>0.906655</td>\n",
       "    </tr>\n",
       "    <tr>\n",
       "      <th>8</th>\n",
       "      <td>0.00045</td>\n",
       "      <td>0.903630</td>\n",
       "    </tr>\n",
       "    <tr>\n",
       "      <th>9</th>\n",
       "      <td>0.00050</td>\n",
       "      <td>0.910545</td>\n",
       "    </tr>\n",
       "    <tr>\n",
       "      <th>10</th>\n",
       "      <td>0.00055</td>\n",
       "      <td>0.901901</td>\n",
       "    </tr>\n",
       "    <tr>\n",
       "      <th>11</th>\n",
       "      <td>0.00060</td>\n",
       "      <td>0.901037</td>\n",
       "    </tr>\n",
       "    <tr>\n",
       "      <th>12</th>\n",
       "      <td>0.00065</td>\n",
       "      <td>0.919188</td>\n",
       "    </tr>\n",
       "    <tr>\n",
       "      <th>13</th>\n",
       "      <td>0.00070</td>\n",
       "      <td>0.904494</td>\n",
       "    </tr>\n",
       "    <tr>\n",
       "      <th>14</th>\n",
       "      <td>0.00075</td>\n",
       "      <td>0.894123</td>\n",
       "    </tr>\n",
       "    <tr>\n",
       "      <th>15</th>\n",
       "      <td>0.00080</td>\n",
       "      <td>0.902334</td>\n",
       "    </tr>\n",
       "    <tr>\n",
       "      <th>16</th>\n",
       "      <td>0.00085</td>\n",
       "      <td>0.904494</td>\n",
       "    </tr>\n",
       "    <tr>\n",
       "      <th>17</th>\n",
       "      <td>0.00090</td>\n",
       "      <td>0.900605</td>\n",
       "    </tr>\n",
       "    <tr>\n",
       "      <th>18</th>\n",
       "      <td>0.00095</td>\n",
       "      <td>0.898012</td>\n",
       "    </tr>\n",
       "  </tbody>\n",
       "</table>\n",
       "</div>"
      ],
      "text/plain": [
       "    learning_rates  validation accuracy\n",
       "0          0.00005             0.870354\n",
       "1          0.00010             0.866465\n",
       "2          0.00015             0.904494\n",
       "3          0.00020             0.906223\n",
       "4          0.00025             0.895419\n",
       "5          0.00030             0.907952\n",
       "6          0.00035             0.918755\n",
       "7          0.00040             0.906655\n",
       "8          0.00045             0.903630\n",
       "9          0.00050             0.910545\n",
       "10         0.00055             0.901901\n",
       "11         0.00060             0.901037\n",
       "12         0.00065             0.919188\n",
       "13         0.00070             0.904494\n",
       "14         0.00075             0.894123\n",
       "15         0.00080             0.902334\n",
       "16         0.00085             0.904494\n",
       "17         0.00090             0.900605\n",
       "18         0.00095             0.898012"
      ]
     },
     "execution_count": 66,
     "metadata": {},
     "output_type": "execute_result"
    }
   ],
   "source": [
    "print('activation function: {}'.format(activations[2]))\n",
    "\n",
    "dfs[2]"
   ]
  },
  {
   "cell_type": "code",
   "execution_count": 71,
   "metadata": {},
   "outputs": [
    {
     "data": {
      "text/plain": [
       "0.9191875457763672"
      ]
     },
     "execution_count": 71,
     "metadata": {},
     "output_type": "execute_result"
    }
   ],
   "source": [
    "np.max(dfs[2]['validation accuracy'])"
   ]
  },
  {
   "cell_type": "markdown",
   "metadata": {},
   "source": [
    "## SVM hyperparameters"
   ]
  },
  {
   "cell_type": "code",
   "execution_count": 68,
   "metadata": {},
   "outputs": [
    {
     "name": "stdout",
     "output_type": "stream",
     "text": [
      "[LibSVM][LibSVM][LibSVM][LibSVM][LibSVM][LibSVM][LibSVM][LibSVM][LibSVM][LibSVM][LibSVM][LibSVM][LibSVM][LibSVM][LibSVM][LibSVM][LibSVM][LibSVM][LibSVM][LibSVM][LibSVM][LibSVM][LibSVM][LibSVM][LibSVM][LibSVM][LibSVM][LibSVM][LibSVM][LibSVM][LibSVM][LibSVM][LibSVM][LibSVM][LibSVM][LibSVM][LibSVM][LibSVM]"
     ]
    }
   ],
   "source": [
    "kernels = ['poly', 'rbf']\n",
    "\n",
    "C = np.arange(0, 2, 0.1)[1:]\n",
    "\n",
    "data = []\n",
    "\n",
    "for kernel in kernels:\n",
    "    histories = {}\n",
    "    for c in C:\n",
    "        model = Models(mode = 'svm')\n",
    "        model.compile_(kernel = kernel, C = c)\n",
    "        h = model.train(X_train, y_train, X_test, y_test, plot = False, verbose = 0)\n",
    "        histories[c] = h\n",
    "        \n",
    "    data.append(histories)"
   ]
  },
  {
   "cell_type": "code",
   "execution_count": 73,
   "metadata": {},
   "outputs": [],
   "source": [
    "dfs = []\n",
    "\n",
    "for d in data:\n",
    "    l = []\n",
    "    df = pd.DataFrame()\n",
    "    for c in C:\n",
    "        l.append(d[c])\n",
    "    df['learning_rates'] = learning_rates\n",
    "    df['validation accuracy'] = l\n",
    "    dfs.append(df)"
   ]
  },
  {
   "cell_type": "code",
   "execution_count": 82,
   "metadata": {},
   "outputs": [
    {
     "name": "stdout",
     "output_type": "stream",
     "text": [
      "kernel: polynomial\n"
     ]
    },
    {
     "data": {
      "text/html": [
       "<div>\n",
       "<style scoped>\n",
       "    .dataframe tbody tr th:only-of-type {\n",
       "        vertical-align: middle;\n",
       "    }\n",
       "\n",
       "    .dataframe tbody tr th {\n",
       "        vertical-align: top;\n",
       "    }\n",
       "\n",
       "    .dataframe thead th {\n",
       "        text-align: right;\n",
       "    }\n",
       "</style>\n",
       "<table border=\"1\" class=\"dataframe\">\n",
       "  <thead>\n",
       "    <tr style=\"text-align: right;\">\n",
       "      <th></th>\n",
       "      <th>learning_rates</th>\n",
       "      <th>validation accuracy</th>\n",
       "    </tr>\n",
       "  </thead>\n",
       "  <tbody>\n",
       "    <tr>\n",
       "      <th>0</th>\n",
       "      <td>0.00005</td>\n",
       "      <td>0.865601</td>\n",
       "    </tr>\n",
       "    <tr>\n",
       "      <th>1</th>\n",
       "      <td>0.00010</td>\n",
       "      <td>0.880726</td>\n",
       "    </tr>\n",
       "    <tr>\n",
       "      <th>2</th>\n",
       "      <td>0.00015</td>\n",
       "      <td>0.888073</td>\n",
       "    </tr>\n",
       "    <tr>\n",
       "      <th>3</th>\n",
       "      <td>0.00020</td>\n",
       "      <td>0.890233</td>\n",
       "    </tr>\n",
       "    <tr>\n",
       "      <th>4</th>\n",
       "      <td>0.00025</td>\n",
       "      <td>0.893258</td>\n",
       "    </tr>\n",
       "    <tr>\n",
       "      <th>5</th>\n",
       "      <td>0.00030</td>\n",
       "      <td>0.893691</td>\n",
       "    </tr>\n",
       "    <tr>\n",
       "      <th>6</th>\n",
       "      <td>0.00035</td>\n",
       "      <td>0.894555</td>\n",
       "    </tr>\n",
       "    <tr>\n",
       "      <th>7</th>\n",
       "      <td>0.00040</td>\n",
       "      <td>0.894123</td>\n",
       "    </tr>\n",
       "    <tr>\n",
       "      <th>8</th>\n",
       "      <td>0.00045</td>\n",
       "      <td>0.894987</td>\n",
       "    </tr>\n",
       "    <tr>\n",
       "      <th>9</th>\n",
       "      <td>0.00050</td>\n",
       "      <td>0.898012</td>\n",
       "    </tr>\n",
       "    <tr>\n",
       "      <th>10</th>\n",
       "      <td>0.00055</td>\n",
       "      <td>0.898444</td>\n",
       "    </tr>\n",
       "    <tr>\n",
       "      <th>11</th>\n",
       "      <td>0.00060</td>\n",
       "      <td>0.899309</td>\n",
       "    </tr>\n",
       "    <tr>\n",
       "      <th>12</th>\n",
       "      <td>0.00065</td>\n",
       "      <td>0.899741</td>\n",
       "    </tr>\n",
       "    <tr>\n",
       "      <th>13</th>\n",
       "      <td>0.00070</td>\n",
       "      <td>0.900605</td>\n",
       "    </tr>\n",
       "    <tr>\n",
       "      <th>14</th>\n",
       "      <td>0.00075</td>\n",
       "      <td>0.899309</td>\n",
       "    </tr>\n",
       "    <tr>\n",
       "      <th>15</th>\n",
       "      <td>0.00080</td>\n",
       "      <td>0.901469</td>\n",
       "    </tr>\n",
       "    <tr>\n",
       "      <th>16</th>\n",
       "      <td>0.00085</td>\n",
       "      <td>0.901037</td>\n",
       "    </tr>\n",
       "    <tr>\n",
       "      <th>17</th>\n",
       "      <td>0.00090</td>\n",
       "      <td>0.901469</td>\n",
       "    </tr>\n",
       "    <tr>\n",
       "      <th>18</th>\n",
       "      <td>0.00095</td>\n",
       "      <td>0.901037</td>\n",
       "    </tr>\n",
       "  </tbody>\n",
       "</table>\n",
       "</div>"
      ],
      "text/plain": [
       "    learning_rates  validation accuracy\n",
       "0          0.00005             0.865601\n",
       "1          0.00010             0.880726\n",
       "2          0.00015             0.888073\n",
       "3          0.00020             0.890233\n",
       "4          0.00025             0.893258\n",
       "5          0.00030             0.893691\n",
       "6          0.00035             0.894555\n",
       "7          0.00040             0.894123\n",
       "8          0.00045             0.894987\n",
       "9          0.00050             0.898012\n",
       "10         0.00055             0.898444\n",
       "11         0.00060             0.899309\n",
       "12         0.00065             0.899741\n",
       "13         0.00070             0.900605\n",
       "14         0.00075             0.899309\n",
       "15         0.00080             0.901469\n",
       "16         0.00085             0.901037\n",
       "17         0.00090             0.901469\n",
       "18         0.00095             0.901037"
      ]
     },
     "execution_count": 82,
     "metadata": {},
     "output_type": "execute_result"
    }
   ],
   "source": [
    "print('kernel: polynomial')\n",
    "dfs[0]"
   ]
  },
  {
   "cell_type": "code",
   "execution_count": 79,
   "metadata": {},
   "outputs": [
    {
     "data": {
      "text/plain": [
       "0.9014693171996543"
      ]
     },
     "execution_count": 79,
     "metadata": {},
     "output_type": "execute_result"
    }
   ],
   "source": [
    "np.max(dfs[0]['validation accuracy'])"
   ]
  },
  {
   "cell_type": "code",
   "execution_count": 81,
   "metadata": {},
   "outputs": [
    {
     "name": "stdout",
     "output_type": "stream",
     "text": [
      "kernel: rbf\n"
     ]
    },
    {
     "data": {
      "text/html": [
       "<div>\n",
       "<style scoped>\n",
       "    .dataframe tbody tr th:only-of-type {\n",
       "        vertical-align: middle;\n",
       "    }\n",
       "\n",
       "    .dataframe tbody tr th {\n",
       "        vertical-align: top;\n",
       "    }\n",
       "\n",
       "    .dataframe thead th {\n",
       "        text-align: right;\n",
       "    }\n",
       "</style>\n",
       "<table border=\"1\" class=\"dataframe\">\n",
       "  <thead>\n",
       "    <tr style=\"text-align: right;\">\n",
       "      <th></th>\n",
       "      <th>learning_rates</th>\n",
       "      <th>validation accuracy</th>\n",
       "    </tr>\n",
       "  </thead>\n",
       "  <tbody>\n",
       "    <tr>\n",
       "      <th>0</th>\n",
       "      <td>0.00005</td>\n",
       "      <td>0.881158</td>\n",
       "    </tr>\n",
       "    <tr>\n",
       "      <th>1</th>\n",
       "      <td>0.00010</td>\n",
       "      <td>0.889369</td>\n",
       "    </tr>\n",
       "    <tr>\n",
       "      <th>2</th>\n",
       "      <td>0.00015</td>\n",
       "      <td>0.894987</td>\n",
       "    </tr>\n",
       "    <tr>\n",
       "      <th>3</th>\n",
       "      <td>0.00020</td>\n",
       "      <td>0.893691</td>\n",
       "    </tr>\n",
       "    <tr>\n",
       "      <th>4</th>\n",
       "      <td>0.00025</td>\n",
       "      <td>0.898012</td>\n",
       "    </tr>\n",
       "    <tr>\n",
       "      <th>5</th>\n",
       "      <td>0.00030</td>\n",
       "      <td>0.900605</td>\n",
       "    </tr>\n",
       "    <tr>\n",
       "      <th>6</th>\n",
       "      <td>0.00035</td>\n",
       "      <td>0.900173</td>\n",
       "    </tr>\n",
       "    <tr>\n",
       "      <th>7</th>\n",
       "      <td>0.00040</td>\n",
       "      <td>0.901469</td>\n",
       "    </tr>\n",
       "    <tr>\n",
       "      <th>8</th>\n",
       "      <td>0.00045</td>\n",
       "      <td>0.902334</td>\n",
       "    </tr>\n",
       "    <tr>\n",
       "      <th>9</th>\n",
       "      <td>0.00050</td>\n",
       "      <td>0.904062</td>\n",
       "    </tr>\n",
       "    <tr>\n",
       "      <th>10</th>\n",
       "      <td>0.00055</td>\n",
       "      <td>0.904062</td>\n",
       "    </tr>\n",
       "    <tr>\n",
       "      <th>11</th>\n",
       "      <td>0.00060</td>\n",
       "      <td>0.903630</td>\n",
       "    </tr>\n",
       "    <tr>\n",
       "      <th>12</th>\n",
       "      <td>0.00065</td>\n",
       "      <td>0.904494</td>\n",
       "    </tr>\n",
       "    <tr>\n",
       "      <th>13</th>\n",
       "      <td>0.00070</td>\n",
       "      <td>0.904494</td>\n",
       "    </tr>\n",
       "    <tr>\n",
       "      <th>14</th>\n",
       "      <td>0.00075</td>\n",
       "      <td>0.905359</td>\n",
       "    </tr>\n",
       "    <tr>\n",
       "      <th>15</th>\n",
       "      <td>0.00080</td>\n",
       "      <td>0.904927</td>\n",
       "    </tr>\n",
       "    <tr>\n",
       "      <th>16</th>\n",
       "      <td>0.00085</td>\n",
       "      <td>0.905791</td>\n",
       "    </tr>\n",
       "    <tr>\n",
       "      <th>17</th>\n",
       "      <td>0.00090</td>\n",
       "      <td>0.905791</td>\n",
       "    </tr>\n",
       "    <tr>\n",
       "      <th>18</th>\n",
       "      <td>0.00095</td>\n",
       "      <td>0.906655</td>\n",
       "    </tr>\n",
       "  </tbody>\n",
       "</table>\n",
       "</div>"
      ],
      "text/plain": [
       "    learning_rates  validation accuracy\n",
       "0          0.00005             0.881158\n",
       "1          0.00010             0.889369\n",
       "2          0.00015             0.894987\n",
       "3          0.00020             0.893691\n",
       "4          0.00025             0.898012\n",
       "5          0.00030             0.900605\n",
       "6          0.00035             0.900173\n",
       "7          0.00040             0.901469\n",
       "8          0.00045             0.902334\n",
       "9          0.00050             0.904062\n",
       "10         0.00055             0.904062\n",
       "11         0.00060             0.903630\n",
       "12         0.00065             0.904494\n",
       "13         0.00070             0.904494\n",
       "14         0.00075             0.905359\n",
       "15         0.00080             0.904927\n",
       "16         0.00085             0.905791\n",
       "17         0.00090             0.905791\n",
       "18         0.00095             0.906655"
      ]
     },
     "execution_count": 81,
     "metadata": {},
     "output_type": "execute_result"
    }
   ],
   "source": [
    "print('kernel: rbf')\n",
    "\n",
    "dfs[1]"
   ]
  },
  {
   "cell_type": "code",
   "execution_count": 80,
   "metadata": {},
   "outputs": [
    {
     "data": {
      "text/plain": [
       "0.9066551426101987"
      ]
     },
     "execution_count": 80,
     "metadata": {},
     "output_type": "execute_result"
    }
   ],
   "source": [
    "np.max(dfs[1]['validation accuracy'])"
   ]
  },
  {
   "cell_type": "code",
   "execution_count": null,
   "metadata": {},
   "outputs": [],
   "source": []
  }
 ],
 "metadata": {
  "kernelspec": {
   "display_name": "Python 3",
   "language": "python",
   "name": "python3"
  },
  "language_info": {
   "codemirror_mode": {
    "name": "ipython",
    "version": 3
   },
   "file_extension": ".py",
   "mimetype": "text/x-python",
   "name": "python",
   "nbconvert_exporter": "python",
   "pygments_lexer": "ipython3",
   "version": "3.7.9"
  }
 },
 "nbformat": 4,
 "nbformat_minor": 4
}
